{
  "nbformat": 4,
  "nbformat_minor": 0,
  "metadata": {
    "colab": {
      "provenance": []
    },
    "kernelspec": {
      "name": "python3",
      "display_name": "Python 3"
    },
    "language_info": {
      "name": "python"
    }
  },
  "cells": [
    {
      "cell_type": "markdown",
      "source": [
        "# Algoritimo em Alto Nivel\n",
        "\n",
        "ArvoreDecesion(dataSet=dataSet, classe='Conclusao', criterio='entropia'):\n",
        " 1) Verifica se hora de parada (se todos os exemplos da classe forem iguais, não há dados para classificação)\n",
        " 2) Escolhe o \"melhor\" atributo\n",
        "  2.1) Calcula a entropia da classe\n",
        "  2.2) Calcula a entropia dos atributos\n",
        "  2.3) Seleciona o atributo com maior ganho de informação\n",
        " 3) Cria uma aresta por valor do atributo\n",
        " 4) Cria um nó (filho) por valor\n",
        "  4.1) Separa o subconjunto para sub valor do atributo filho\n",
        " 5) Chama a função recursivamente"
      ],
      "metadata": {
        "id": "bk-Vm2Ki3nTp"
      }
    },
    {
      "cell_type": "code",
      "source": [
        "# Importação de bibliotecas\n",
        "import pandas as pd\n",
        "import numpy as np\n",
        "import matplotlib.pyplot as plt\n",
        "from enum import Enum"
      ],
      "metadata": {
        "id": "R6-dUJn_3qbh"
      },
      "execution_count": 1,
      "outputs": []
    },
    {
      "cell_type": "code",
      "source": [
        "# ----------------------------\n",
        "# ENUMS PARA CRITÉRIO E MÉTODO\n",
        "# ----------------------------\n",
        "class Algoritmos(Enum):\n",
        "    ID3 = \"ID3\"\n",
        "    C45 = \"C4.5\"\n",
        "    CART = \"CART\""
      ],
      "metadata": {
        "id": "qMOO9XWN3uEz"
      },
      "execution_count": 2,
      "outputs": []
    },
    {
      "cell_type": "code",
      "source": [
        "# ----------------------------\n",
        "# CLASSE NO\n",
        "# ----------------------------\n",
        "class No:\n",
        "    def __init__(self, atributo=None, valor=None, sample = 0, grauConfusao=None, value=None, filhos=None, classe=None):\n",
        "        \"\"\"\n",
        "        Inicializa um No com os parâmetros dados.\n",
        "\n",
        "        Parâmetros:\n",
        "        atributo (str): Atributo a ser testado no No intermédio.\n",
        "        sample (int): Quantidade de Exemplos por no.\n",
        "        grauConfusao (float): Valor da Entropia ou Geni.\n",
        "        value (list): Quantidade de Exemplos em cada classe.\n",
        "        filhos (list): Usado quando for nó intermédio.\n",
        "        classe (str): Usado quando for nó folha (Classe final).\n",
        "        \"\"\"\n",
        "\n",
        "        self.atributo = atributo                                  # usado quando for nó intermédio (Atributo a ser testado)\n",
        "        self.valor = valor                                        # usado quando for nó intermédio\n",
        "        self.grauConfusao = grauConfusao                          # Valor da Entropia ou Geni\n",
        "        self.value = list(value) if value is not None else []     # Quantidade de Exemplos em cada classe\n",
        "        self.sample = sample                                      # Quantidade de Exemplos por no\n",
        "        self.filhos = list(filhos) if filhos is not None else []  # usado quando for nó intermédio\n",
        "        self.classe = classe                                      # usado quando for nó folha (Classe final)\n",
        "\n",
        "    def eh_folha(self):\n",
        "        return self.classe is not None\n",
        "\n",
        "    def eh_intermediario(self):\n",
        "        return not self.eh_folha()\n"
      ],
      "metadata": {
        "id": "1hQCmNcv3wT7"
      },
      "execution_count": 3,
      "outputs": []
    },
    {
      "cell_type": "code",
      "source": [
        "# ----------------------------\n",
        "# CLASSES DA ÁRVORE\n",
        "# ----------------------------\n",
        "class Arvore:\n",
        "  def __init__(self, raiz=None, regras=None):\n",
        "        \"\"\"\n",
        "        Inicializa uma arvore com o No raiz e as regras definidas.\n",
        "\n",
        "        Parâmetros:\n",
        "        raiz (No): O No raiz da arvore.\n",
        "        regras (dict): Um dicionário com as regras.\n",
        "        \"\"\"\n",
        "        self.raiz = raiz\n",
        "        self.regras = regras\n",
        "\n",
        "  def imprimir(self, no=None, nivel=0):\n",
        "    no = no or self.raiz\n",
        "    prefixo = \"  \" * nivel\n",
        "\n",
        "    if no.eh_folha():\n",
        "        print(f\"{prefixo}- Classe: {no.classe} (amostra: {no.sample})\")\n",
        "    else:\n",
        "        print(f\"{prefixo}- Atributo: {no.atributo} (impureza: {no.grauConfusao:.4f}, amostra: {no.sample})\")\n",
        "        for filho in no.filhos:\n",
        "            print(f\"{prefixo}  Valor da aresta: {filho.valor}\")\n",
        "            # Chama recursivamente passando o próprio nó filho\n",
        "            self.imprimir(filho, nivel + 2)"
      ],
      "metadata": {
        "id": "IaJlvi2U3yNX"
      },
      "execution_count": 4,
      "outputs": []
    },
    {
      "cell_type": "code",
      "source": [
        "# ----------------------------\n",
        "# FUNÇÕES DE IMPUREZA - ENTROPIA E GINI\n",
        "# ----------------------------\n",
        "def entropia(labels):\n",
        "  \"\"\"\n",
        "    Calcula a entropia a partir de uma série de rótulos (labels).\n",
        "  \"\"\"\n",
        "  valores, contagens = np.unique(labels, return_counts=True)\n",
        "  probs = contagens / contagens.sum()\n",
        "  return -np.sum(probs * np.log2(probs))\n",
        "\n",
        "def gini(labels):\n",
        "    \"\"\"\n",
        "    Calcula o índice de Gini a partir de uma série de rótulos (labels).\n",
        "    \"\"\"\n",
        "    valores, contagens = np.unique(labels, return_counts=True)\n",
        "    probs = contagens / contagens.sum()\n",
        "    return 1 - np.sum(probs**2)"
      ],
      "metadata": {
        "id": "l4MtU1ui30ak"
      },
      "execution_count": 5,
      "outputs": []
    },
    {
      "cell_type": "code",
      "source": [
        "# ----------------------------\n",
        "# CONDIÇÃO DE PARADA\n",
        "# ----------------------------\n",
        "def hora_de_parada(dataSet: pd.DataFrame, classe: str='Conclusao'):\n",
        "  \"\"\"\n",
        "    Verifica se a hora de parada foi atingida.\n",
        "\n",
        "    Se todos os exemplos da classe forem iguais, ou se não houver dados para classificação,\n",
        "    a hora de parada foi atingida.\n",
        "\n",
        "    Parâmetros:\n",
        "    dataSet (pd.DataFrame): Conjunto de dados.\n",
        "    classe (str): Nome da coluna que contém a classe.\n",
        "\n",
        "    Retorna:\n",
        "    bool: Verdadeiro se a hora de parada foi atingida, falso caso contrário.\n",
        "  \"\"\"\n",
        "  return len(dataSet[classe].unique()) == 1 or len(dataSet) == 0\n"
      ],
      "metadata": {
        "id": "gG6DMJHp33CN"
      },
      "execution_count": 6,
      "outputs": []
    },
    {
      "cell_type": "code",
      "source": [
        "# ----------------------------\n",
        "# ESCOLHA DO MELHOR ATRIBUTO\n",
        "# ----------------------------\n",
        "def escolher_melhor_atributo(dataSet: pd.DataFrame, classe: str, algoritimo: Algoritmos):\n",
        "    \"\"\"\n",
        "    Escolhe o melhor atributo para construir a árvore.\n",
        "\n",
        "    Parâmetros:\n",
        "    dataSet (pd.DataFrame): Conjunto de dados.\n",
        "    classe (str): Nome da coluna que contém a classe.\n",
        "    algoritmo (Algoritmos): Algoritmo a ser utilizado (ID3, C4.5 ou CART).\n",
        "\n",
        "    Retorna:\n",
        "    str: O nome do melhor atributo.\n",
        "    \"\"\"\n",
        "    atributos = [col for col in dataSet.columns if col != classe]\n",
        "    if algoritimo == algoritimo.CART:\n",
        "        base_score = gini(dataSet[classe])\n",
        "    else:\n",
        "        base_score = entropia(dataSet[classe])\n",
        "\n",
        "    melhor_atributo = None\n",
        "    melhor_ganho = -np.inf\n",
        "\n",
        "    for atributo in atributos:\n",
        "        score_atributo = 0\n",
        "        split_info = 0\n",
        "        for valor in dataSet[atributo].unique():\n",
        "            subset = dataSet[dataSet[atributo] == valor]\n",
        "            peso = len(subset) / len(dataSet)\n",
        "            if algoritimo == algoritimo.CART:\n",
        "                score_atributo += peso * gini(subset[classe])\n",
        "            else:\n",
        "                score_atributo += peso * entropia(subset[classe])\n",
        "                split_info -= peso * np.log2(peso) if peso > 0 else 0\n",
        "\n",
        "        ganho = base_score - score_atributo\n",
        "        if  algoritimo == Algoritmos.C45 and split_info > 0:\n",
        "            ganho = ganho / split_info\n",
        "\n",
        "        if ganho > melhor_ganho:\n",
        "            melhor_ganho = ganho\n",
        "            melhor_atributo = atributo\n",
        "\n",
        "    return melhor_atributo"
      ],
      "metadata": {
        "id": "_lXCvHKm35HN"
      },
      "execution_count": 7,
      "outputs": []
    },
    {
      "cell_type": "code",
      "source": [
        "# ----------------------------\n",
        "# CONSTRUÇÃO DA ÁRVORE\n",
        "# ---------------------------\n",
        "def ArvoreDecesion(dataSet: pd.DataFrame, classe: str='Conclusao', algoritimo: Algoritmos = Algoritmos.ID3):\n",
        "  \"\"\"\n",
        "  Constrói uma árvore de decisão a partir do conjunto de dados fornecido.\n",
        "\n",
        "  Parâmetros:\n",
        "  dataSet (pd.DataFrame): Conjunto de dados.\n",
        "  classe (str): Nome da coluna que contém a classe. (Padrão: 'Conclusao')\n",
        "  algoritmo (Algoritmos): Algoritmo a ser utilizado (ID3, C4.5 ou CART). (Padrão: Algoritmos.ID3)\n",
        "\n",
        "  Retorna:\n",
        "  Arvore: A árvore de decisão construída.\n",
        "  \"\"\"\n",
        "  arvore = Arvore()\n",
        "\n",
        "  arvore.raiz = No()\n",
        "  arvore.raiz = construir_arvore(dataSet=dataSet, no=arvore.raiz, classe=classe, algoritimo=algoritimo)\n",
        "  return arvore"
      ],
      "metadata": {
        "id": "r1y82Am_368h"
      },
      "execution_count": 8,
      "outputs": []
    },
    {
      "cell_type": "code",
      "source": [
        "def construir_arvore(dataSet: pd.DataFrame, no: No, classe: str, algoritimo: Algoritmos):\n",
        "\n",
        "  # Preenche estatísticas do nó atual\n",
        "  no.sample = len(dataSet)\n",
        "  no.value = dataSet[classe].value_counts().tolist()\n",
        "\n",
        "  if algoritimo == algoritimo.CART:\n",
        "    no.grauConfusao = gini(dataSet[classe])\n",
        "  else:\n",
        "    no.grauConfusao = entropia(dataSet[classe])\n",
        "\n",
        "  # condição de parada\n",
        "  if hora_de_parada(dataSet, classe) or len(dataSet.columns) == 1:\n",
        "    no.classe = dataSet[classe].value_counts().idxmax()\n",
        "    return no\n",
        "\n",
        "  # escolha do melhor atributo\n",
        "  melhor_atributo = escolher_melhor_atributo(dataSet, classe, algoritimo)\n",
        "\n",
        "  no.atributo = melhor_atributo\n",
        "\n",
        "  # cria filhos\n",
        "  for valor in dataSet[melhor_atributo].unique():\n",
        "    subset = dataSet[dataSet[melhor_atributo] == valor]\n",
        "    # cria o filho com a informação da aresta\n",
        "    # chama recursivamente para construir o nó do subset\n",
        "    filho = construir_arvore(subset, No(valor = valor), classe, algoritimo)\n",
        "    # adiciona o filho na lista\n",
        "    no.filhos.append(filho)\n",
        "\n",
        "\n",
        "  print(no.value)\n",
        "  return no"
      ],
      "metadata": {
        "id": "k4bd2HF738yp"
      },
      "execution_count": 9,
      "outputs": []
    },
    {
      "cell_type": "code",
      "source": [
        "# ----------------------------\n",
        "# EXEMPLO DE USO\n",
        "# ----------------------------\n",
        "if __name__ == \"__main__\":\n",
        "\n",
        "    # Carrega dados\n",
        "    #data = pd.read_csv('./content/sample_data/playTannis.csv', sep=';')\n",
        "    data = pd.read_csv('./content/sample_data/titanic.csv', sep=';')\n",
        "\n",
        "    # Construir árvore ID3\n",
        "    arvore_id3 = ArvoreDecesion(data, classe='Conclusao', algoritimo=Algoritmos.ID3)\n",
        "    # Construir árvore C4.5\n",
        "    arvore_c45 = ArvoreDecesion(data, classe='Conclusao', algoritimo=Algoritmos.C45)\n",
        "    # Construir árvore CART\n",
        "    arvore_cart = ArvoreDecesion(data, classe='Conclusao', algoritimo=Algoritmos.CART)\n",
        "\n",
        "    # Imprime árvore com ID3\n",
        "    print(\" \\n------------ Árvore ID3: ------------\\n\")\n",
        "    arvore_id3.imprimir()\n",
        "\n",
        "    # # Imprime árvore com ID3\n",
        "    # print(\"\\n------------ Árvore C4 .5: ------------\\n\")\n",
        "    # arvore_c45.imprimir()\n",
        "\n",
        "    # # Imprime árvore com ID3\n",
        "    # print(\" \\n------------ Árvore CART: ------------\\n\")\n",
        "    # arvore_cart.imprimir()"
      ],
      "metadata": {
        "colab": {
          "base_uri": "https://localhost:8080/",
          "height": 390
        },
        "id": "sr8-V_sa3-is",
        "outputId": "e5ba8bd9-49f0-4a4f-b3ce-28e2ca79bedb"
      },
      "execution_count": 10,
      "outputs": [
        {
          "output_type": "error",
          "ename": "FileNotFoundError",
          "evalue": "[Errno 2] No such file or directory: './restaurante/restaurante.csv'",
          "traceback": [
            "\u001b[0;31m---------------------------------------------------------------------------\u001b[0m",
            "\u001b[0;31mFileNotFoundError\u001b[0m                         Traceback (most recent call last)",
            "\u001b[0;32m/tmp/ipython-input-2001956125.py\u001b[0m in \u001b[0;36m<cell line: 0>\u001b[0;34m()\u001b[0m\n\u001b[1;32m      5\u001b[0m \u001b[0;34m\u001b[0m\u001b[0m\n\u001b[1;32m      6\u001b[0m     \u001b[0;31m# Carrega dados\u001b[0m\u001b[0;34m\u001b[0m\u001b[0;34m\u001b[0m\u001b[0m\n\u001b[0;32m----> 7\u001b[0;31m     \u001b[0mdata\u001b[0m \u001b[0;34m=\u001b[0m \u001b[0mpd\u001b[0m\u001b[0;34m.\u001b[0m\u001b[0mread_csv\u001b[0m\u001b[0;34m(\u001b[0m\u001b[0;34m'./restaurante/restaurante.csv'\u001b[0m\u001b[0;34m,\u001b[0m \u001b[0msep\u001b[0m\u001b[0;34m=\u001b[0m\u001b[0;34m';'\u001b[0m\u001b[0;34m)\u001b[0m\u001b[0;34m\u001b[0m\u001b[0;34m\u001b[0m\u001b[0m\n\u001b[0m\u001b[1;32m      8\u001b[0m \u001b[0;34m\u001b[0m\u001b[0m\n\u001b[1;32m      9\u001b[0m     \u001b[0;31m# Construir árvore ID3\u001b[0m\u001b[0;34m\u001b[0m\u001b[0;34m\u001b[0m\u001b[0m\n",
            "\u001b[0;32m/usr/local/lib/python3.12/dist-packages/pandas/io/parsers/readers.py\u001b[0m in \u001b[0;36mread_csv\u001b[0;34m(filepath_or_buffer, sep, delimiter, header, names, index_col, usecols, dtype, engine, converters, true_values, false_values, skipinitialspace, skiprows, skipfooter, nrows, na_values, keep_default_na, na_filter, verbose, skip_blank_lines, parse_dates, infer_datetime_format, keep_date_col, date_parser, date_format, dayfirst, cache_dates, iterator, chunksize, compression, thousands, decimal, lineterminator, quotechar, quoting, doublequote, escapechar, comment, encoding, encoding_errors, dialect, on_bad_lines, delim_whitespace, low_memory, memory_map, float_precision, storage_options, dtype_backend)\u001b[0m\n\u001b[1;32m   1024\u001b[0m     \u001b[0mkwds\u001b[0m\u001b[0;34m.\u001b[0m\u001b[0mupdate\u001b[0m\u001b[0;34m(\u001b[0m\u001b[0mkwds_defaults\u001b[0m\u001b[0;34m)\u001b[0m\u001b[0;34m\u001b[0m\u001b[0;34m\u001b[0m\u001b[0m\n\u001b[1;32m   1025\u001b[0m \u001b[0;34m\u001b[0m\u001b[0m\n\u001b[0;32m-> 1026\u001b[0;31m     \u001b[0;32mreturn\u001b[0m \u001b[0m_read\u001b[0m\u001b[0;34m(\u001b[0m\u001b[0mfilepath_or_buffer\u001b[0m\u001b[0;34m,\u001b[0m \u001b[0mkwds\u001b[0m\u001b[0;34m)\u001b[0m\u001b[0;34m\u001b[0m\u001b[0;34m\u001b[0m\u001b[0m\n\u001b[0m\u001b[1;32m   1027\u001b[0m \u001b[0;34m\u001b[0m\u001b[0m\n\u001b[1;32m   1028\u001b[0m \u001b[0;34m\u001b[0m\u001b[0m\n",
            "\u001b[0;32m/usr/local/lib/python3.12/dist-packages/pandas/io/parsers/readers.py\u001b[0m in \u001b[0;36m_read\u001b[0;34m(filepath_or_buffer, kwds)\u001b[0m\n\u001b[1;32m    618\u001b[0m \u001b[0;34m\u001b[0m\u001b[0m\n\u001b[1;32m    619\u001b[0m     \u001b[0;31m# Create the parser.\u001b[0m\u001b[0;34m\u001b[0m\u001b[0;34m\u001b[0m\u001b[0m\n\u001b[0;32m--> 620\u001b[0;31m     \u001b[0mparser\u001b[0m \u001b[0;34m=\u001b[0m \u001b[0mTextFileReader\u001b[0m\u001b[0;34m(\u001b[0m\u001b[0mfilepath_or_buffer\u001b[0m\u001b[0;34m,\u001b[0m \u001b[0;34m**\u001b[0m\u001b[0mkwds\u001b[0m\u001b[0;34m)\u001b[0m\u001b[0;34m\u001b[0m\u001b[0;34m\u001b[0m\u001b[0m\n\u001b[0m\u001b[1;32m    621\u001b[0m \u001b[0;34m\u001b[0m\u001b[0m\n\u001b[1;32m    622\u001b[0m     \u001b[0;32mif\u001b[0m \u001b[0mchunksize\u001b[0m \u001b[0;32mor\u001b[0m \u001b[0miterator\u001b[0m\u001b[0;34m:\u001b[0m\u001b[0;34m\u001b[0m\u001b[0;34m\u001b[0m\u001b[0m\n",
            "\u001b[0;32m/usr/local/lib/python3.12/dist-packages/pandas/io/parsers/readers.py\u001b[0m in \u001b[0;36m__init__\u001b[0;34m(self, f, engine, **kwds)\u001b[0m\n\u001b[1;32m   1618\u001b[0m \u001b[0;34m\u001b[0m\u001b[0m\n\u001b[1;32m   1619\u001b[0m         \u001b[0mself\u001b[0m\u001b[0;34m.\u001b[0m\u001b[0mhandles\u001b[0m\u001b[0;34m:\u001b[0m \u001b[0mIOHandles\u001b[0m \u001b[0;34m|\u001b[0m \u001b[0;32mNone\u001b[0m \u001b[0;34m=\u001b[0m \u001b[0;32mNone\u001b[0m\u001b[0;34m\u001b[0m\u001b[0;34m\u001b[0m\u001b[0m\n\u001b[0;32m-> 1620\u001b[0;31m         \u001b[0mself\u001b[0m\u001b[0;34m.\u001b[0m\u001b[0m_engine\u001b[0m \u001b[0;34m=\u001b[0m \u001b[0mself\u001b[0m\u001b[0;34m.\u001b[0m\u001b[0m_make_engine\u001b[0m\u001b[0;34m(\u001b[0m\u001b[0mf\u001b[0m\u001b[0;34m,\u001b[0m \u001b[0mself\u001b[0m\u001b[0;34m.\u001b[0m\u001b[0mengine\u001b[0m\u001b[0;34m)\u001b[0m\u001b[0;34m\u001b[0m\u001b[0;34m\u001b[0m\u001b[0m\n\u001b[0m\u001b[1;32m   1621\u001b[0m \u001b[0;34m\u001b[0m\u001b[0m\n\u001b[1;32m   1622\u001b[0m     \u001b[0;32mdef\u001b[0m \u001b[0mclose\u001b[0m\u001b[0;34m(\u001b[0m\u001b[0mself\u001b[0m\u001b[0;34m)\u001b[0m \u001b[0;34m->\u001b[0m \u001b[0;32mNone\u001b[0m\u001b[0;34m:\u001b[0m\u001b[0;34m\u001b[0m\u001b[0;34m\u001b[0m\u001b[0m\n",
            "\u001b[0;32m/usr/local/lib/python3.12/dist-packages/pandas/io/parsers/readers.py\u001b[0m in \u001b[0;36m_make_engine\u001b[0;34m(self, f, engine)\u001b[0m\n\u001b[1;32m   1878\u001b[0m                 \u001b[0;32mif\u001b[0m \u001b[0;34m\"b\"\u001b[0m \u001b[0;32mnot\u001b[0m \u001b[0;32min\u001b[0m \u001b[0mmode\u001b[0m\u001b[0;34m:\u001b[0m\u001b[0;34m\u001b[0m\u001b[0;34m\u001b[0m\u001b[0m\n\u001b[1;32m   1879\u001b[0m                     \u001b[0mmode\u001b[0m \u001b[0;34m+=\u001b[0m \u001b[0;34m\"b\"\u001b[0m\u001b[0;34m\u001b[0m\u001b[0;34m\u001b[0m\u001b[0m\n\u001b[0;32m-> 1880\u001b[0;31m             self.handles = get_handle(\n\u001b[0m\u001b[1;32m   1881\u001b[0m                 \u001b[0mf\u001b[0m\u001b[0;34m,\u001b[0m\u001b[0;34m\u001b[0m\u001b[0;34m\u001b[0m\u001b[0m\n\u001b[1;32m   1882\u001b[0m                 \u001b[0mmode\u001b[0m\u001b[0;34m,\u001b[0m\u001b[0;34m\u001b[0m\u001b[0;34m\u001b[0m\u001b[0m\n",
            "\u001b[0;32m/usr/local/lib/python3.12/dist-packages/pandas/io/common.py\u001b[0m in \u001b[0;36mget_handle\u001b[0;34m(path_or_buf, mode, encoding, compression, memory_map, is_text, errors, storage_options)\u001b[0m\n\u001b[1;32m    871\u001b[0m         \u001b[0;32mif\u001b[0m \u001b[0mioargs\u001b[0m\u001b[0;34m.\u001b[0m\u001b[0mencoding\u001b[0m \u001b[0;32mand\u001b[0m \u001b[0;34m\"b\"\u001b[0m \u001b[0;32mnot\u001b[0m \u001b[0;32min\u001b[0m \u001b[0mioargs\u001b[0m\u001b[0;34m.\u001b[0m\u001b[0mmode\u001b[0m\u001b[0;34m:\u001b[0m\u001b[0;34m\u001b[0m\u001b[0;34m\u001b[0m\u001b[0m\n\u001b[1;32m    872\u001b[0m             \u001b[0;31m# Encoding\u001b[0m\u001b[0;34m\u001b[0m\u001b[0;34m\u001b[0m\u001b[0m\n\u001b[0;32m--> 873\u001b[0;31m             handle = open(\n\u001b[0m\u001b[1;32m    874\u001b[0m                 \u001b[0mhandle\u001b[0m\u001b[0;34m,\u001b[0m\u001b[0;34m\u001b[0m\u001b[0;34m\u001b[0m\u001b[0m\n\u001b[1;32m    875\u001b[0m                 \u001b[0mioargs\u001b[0m\u001b[0;34m.\u001b[0m\u001b[0mmode\u001b[0m\u001b[0;34m,\u001b[0m\u001b[0;34m\u001b[0m\u001b[0;34m\u001b[0m\u001b[0m\n",
            "\u001b[0;31mFileNotFoundError\u001b[0m: [Errno 2] No such file or directory: './restaurante/restaurante.csv'"
          ]
        }
      ]
    }
  ]
}